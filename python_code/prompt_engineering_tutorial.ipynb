{
 "cells": [
  {
   "cell_type": "code",
   "execution_count": 11,
   "metadata": {},
   "outputs": [
    {
     "data": {
      "text/plain": [
       "True"
      ]
     },
     "execution_count": 11,
     "metadata": {},
     "output_type": "execute_result"
    }
   ],
   "source": [
    "from openai import OpenAI\n",
    "import os\n",
    "from dotenv import load_dotenv\n",
    "load_dotenv()"
   ]
  },
  {
   "cell_type": "code",
   "execution_count": 12,
   "metadata": {},
   "outputs": [
    {
     "data": {
      "text/plain": [
       "'rpa_UDR5WDDQSMDGO6ABIUXYUVHOM588V4UFIWQXWWN5jryeu5'"
      ]
     },
     "execution_count": 12,
     "metadata": {},
     "output_type": "execute_result"
    }
   ],
   "source": [
    "os.getenv(\"RUNPOD_API_KEY\")"
   ]
  },
  {
   "cell_type": "code",
   "execution_count": 13,
   "metadata": {},
   "outputs": [
    {
     "data": {
      "text/plain": [
       "[{'aiKey': 'LSF99FYLLR0UGZZCPYKEKILBPYJTWY2E83WTULM7',\n",
       "  'gpuIds': 'AMPERE_48',\n",
       "  'id': '2jl8td4bvqxy4k',\n",
       "  'idleTimeout': 5,\n",
       "  'name': 'far_silver_ostrich -fb',\n",
       "  'networkVolumeId': None,\n",
       "  'locations': None,\n",
       "  'scalerType': 'QUEUE_DELAY',\n",
       "  'scalerValue': 4,\n",
       "  'templateId': '8fvmno5lpp',\n",
       "  'type': 'QB',\n",
       "  'userId': 'user_2rHv5K2XEF90gXudA8rsArgzSrq',\n",
       "  'version': 1,\n",
       "  'workersMax': 2,\n",
       "  'workersMin': 0,\n",
       "  'workersStandby': 2,\n",
       "  'gpuCount': 1,\n",
       "  'env': None,\n",
       "  'createdAt': '2025-01-07T06:05:00.541Z',\n",
       "  'networkVolume': None}]"
      ]
     },
     "execution_count": 13,
     "metadata": {},
     "output_type": "execute_result"
    }
   ],
   "source": [
    "import runpod\n",
    "import os\n",
    "\n",
    "runpod.api_key = os.getenv(\"RUNPOD_API_KEY\")\n",
    "\n",
    "# Fetching all available endpoints\n",
    "endpoints = runpod.get_endpoints()\n",
    "endpoints\n"
   ]
  },
  {
   "cell_type": "code",
   "execution_count": 14,
   "metadata": {},
   "outputs": [
    {
     "data": {
      "text/plain": [
       "<runpod.endpoint.runner.Endpoint at 0x1a665af26e0>"
      ]
     },
     "execution_count": 14,
     "metadata": {},
     "output_type": "execute_result"
    }
   ],
   "source": [
    "endpoint = runpod.Endpoint('2jl8td4bvqxy4k')\n",
    "endpoint"
   ]
  },
  {
   "cell_type": "code",
   "execution_count": 21,
   "metadata": {},
   "outputs": [
    {
     "name": "stdout",
     "output_type": "stream",
     "text": [
      "Initial job status: IN_QUEUE\n",
      "Job output: [{'choices': [{'tokens': [' A. Mumbai B. Delhi C. Bengaluru D. Hyderabad\\nThe correct']}], 'usage': {'input': 8, 'output': 16}}]\n"
     ]
    }
   ],
   "source": [
    "import runpod\n",
    "import os\n",
    "\n",
    "runpod.api_key = os.getenv(\"RUNPOD_API_KEY\")\n",
    "\n",
    "input_payload = {\"input\": {\"prompt\": \"What is the capital of India ?\"}}\n",
    "\n",
    "try:\n",
    "    endpoint = runpod.Endpoint(os.getenv(\"RUNPOD_ENDPOINT_ID\"))\n",
    "    run_request = endpoint.run(input_payload)\n",
    "\n",
    "    # Initial check without blocking, useful for quick tasks\n",
    "    status = run_request.status()\n",
    "    print(f\"Initial job status: {status}\")\n",
    "\n",
    "    if status != \"COMPLETED\":\n",
    "        # Polling with timeout for long-running tasks\n",
    "        output = run_request.output(timeout=60)\n",
    "    else:\n",
    "        output = run_request.output()\n",
    "    print(f\"Job output: {output}\")\n",
    "except Exception as e:\n",
    "    print(f\"An error occurred: {e}\")"
   ]
  },
  {
   "cell_type": "code",
   "execution_count": null,
   "metadata": {},
   "outputs": [],
   "source": []
  }
 ],
 "metadata": {
  "kernelspec": {
   "display_name": "venv",
   "language": "python",
   "name": "python3"
  },
  "language_info": {
   "codemirror_mode": {
    "name": "ipython",
    "version": 3
   },
   "file_extension": ".py",
   "mimetype": "text/x-python",
   "name": "python",
   "nbconvert_exporter": "python",
   "pygments_lexer": "ipython3",
   "version": "3.10.0"
  }
 },
 "nbformat": 4,
 "nbformat_minor": 2
}
